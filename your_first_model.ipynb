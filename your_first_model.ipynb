{
 "cells": [
  {
   "cell_type": "markdown",
   "metadata": {},
   "source": [
    "# Загрузка Pandas и очистка данных"
   ]
  },
  {
   "cell_type": "code",
   "execution_count": 1,
   "metadata": {},
   "outputs": [],
   "source": [
    "import pandas as pd\n",
    "import re\n",
    "import numpy as np\n",
    "import datetime\n",
    "from datetime import datetime, timedelta\n",
    "import time"
   ]
  },
  {
   "cell_type": "code",
   "execution_count": 2,
   "metadata": {},
   "outputs": [],
   "source": [
    "df = pd.read_csv('main_task.csv')\n",
    "df['Restaurant_id'].replace(regex=True,inplace=True,to_replace=r'\\D',value=r'')\n",
    "df['Restaurant_id']=pd.to_numeric(df['Restaurant_id'], )"
   ]
  },
  {
   "cell_type": "code",
   "execution_count": 3,
   "metadata": {},
   "outputs": [
    {
     "data": {
      "text/html": [
       "<div>\n",
       "<style scoped>\n",
       "    .dataframe tbody tr th:only-of-type {\n",
       "        vertical-align: middle;\n",
       "    }\n",
       "\n",
       "    .dataframe tbody tr th {\n",
       "        vertical-align: top;\n",
       "    }\n",
       "\n",
       "    .dataframe thead th {\n",
       "        text-align: right;\n",
       "    }\n",
       "</style>\n",
       "<table border=\"1\" class=\"dataframe\">\n",
       "  <thead>\n",
       "    <tr style=\"text-align: right;\">\n",
       "      <th></th>\n",
       "      <th>Restaurant_id</th>\n",
       "      <th>City</th>\n",
       "      <th>Cuisine Style</th>\n",
       "      <th>Ranking</th>\n",
       "      <th>Rating</th>\n",
       "      <th>Price Range</th>\n",
       "      <th>Number of Reviews</th>\n",
       "      <th>Reviews</th>\n",
       "      <th>ID_TA</th>\n",
       "    </tr>\n",
       "  </thead>\n",
       "  <tbody>\n",
       "    <tr>\n",
       "      <th>0</th>\n",
       "      <td>5569</td>\n",
       "      <td>Paris</td>\n",
       "      <td>['European', 'French', 'International']</td>\n",
       "      <td>5570.0</td>\n",
       "      <td>3.5</td>\n",
       "      <td>$$ - $$$</td>\n",
       "      <td>194.0</td>\n",
       "      <td>[['Good food at your doorstep', 'A good hotel ...</td>\n",
       "      <td>d1912643</td>\n",
       "    </tr>\n",
       "    <tr>\n",
       "      <th>1</th>\n",
       "      <td>1535</td>\n",
       "      <td>Stockholm</td>\n",
       "      <td>NaN</td>\n",
       "      <td>1537.0</td>\n",
       "      <td>4.0</td>\n",
       "      <td>0</td>\n",
       "      <td>10.0</td>\n",
       "      <td>[['Unique cuisine', 'Delicious Nepalese food']...</td>\n",
       "      <td>d7992032</td>\n",
       "    </tr>\n",
       "    <tr>\n",
       "      <th>2</th>\n",
       "      <td>352</td>\n",
       "      <td>London</td>\n",
       "      <td>['Japanese', 'Sushi', 'Asian', 'Grill', 'Veget...</td>\n",
       "      <td>353.0</td>\n",
       "      <td>4.5</td>\n",
       "      <td>$$$$</td>\n",
       "      <td>688.0</td>\n",
       "      <td>[['Catch up with friends', 'Not exceptional'],...</td>\n",
       "      <td>d8632781</td>\n",
       "    </tr>\n",
       "    <tr>\n",
       "      <th>3</th>\n",
       "      <td>3456</td>\n",
       "      <td>Berlin</td>\n",
       "      <td>NaN</td>\n",
       "      <td>3458.0</td>\n",
       "      <td>5.0</td>\n",
       "      <td>0</td>\n",
       "      <td>3.0</td>\n",
       "      <td>[[], []]</td>\n",
       "      <td>d1358776</td>\n",
       "    </tr>\n",
       "    <tr>\n",
       "      <th>4</th>\n",
       "      <td>615</td>\n",
       "      <td>Munich</td>\n",
       "      <td>['German', 'Central European', 'Vegetarian Fri...</td>\n",
       "      <td>621.0</td>\n",
       "      <td>4.0</td>\n",
       "      <td>$$ - $$$</td>\n",
       "      <td>84.0</td>\n",
       "      <td>[['Best place to try a Bavarian food', 'Nice b...</td>\n",
       "      <td>d6864963</td>\n",
       "    </tr>\n",
       "  </tbody>\n",
       "</table>\n",
       "</div>"
      ],
      "text/plain": [
       "   Restaurant_id       City  \\\n",
       "0           5569      Paris   \n",
       "1           1535  Stockholm   \n",
       "2            352     London   \n",
       "3           3456     Berlin   \n",
       "4            615     Munich   \n",
       "\n",
       "                                       Cuisine Style  Ranking  Rating  \\\n",
       "0            ['European', 'French', 'International']   5570.0     3.5   \n",
       "1                                                NaN   1537.0     4.0   \n",
       "2  ['Japanese', 'Sushi', 'Asian', 'Grill', 'Veget...    353.0     4.5   \n",
       "3                                                NaN   3458.0     5.0   \n",
       "4  ['German', 'Central European', 'Vegetarian Fri...    621.0     4.0   \n",
       "\n",
       "  Price Range  Number of Reviews  \\\n",
       "0    $$ - $$$              194.0   \n",
       "1           0               10.0   \n",
       "2        $$$$              688.0   \n",
       "3           0                3.0   \n",
       "4    $$ - $$$               84.0   \n",
       "\n",
       "                                             Reviews     ID_TA  \n",
       "0  [['Good food at your doorstep', 'A good hotel ...  d1912643  \n",
       "1  [['Unique cuisine', 'Delicious Nepalese food']...  d7992032  \n",
       "2  [['Catch up with friends', 'Not exceptional'],...  d8632781  \n",
       "3                                           [[], []]  d1358776  \n",
       "4  [['Best place to try a Bavarian food', 'Nice b...  d6864963  "
      ]
     },
     "execution_count": 3,
     "metadata": {},
     "output_type": "execute_result"
    }
   ],
   "source": [
    "df.drop(columns=['URL_TA'], axis=1, inplace=True)\n",
    "df['Number of Reviews'].fillna(value=0, inplace=True)\n",
    "df['Price Range'].fillna(value=0, inplace=True)\n",
    "df.head()"
   ]
  },
  {
   "cell_type": "code",
   "execution_count": 4,
   "metadata": {},
   "outputs": [
    {
     "data": {
      "text/plain": [
       "$$ - $$$    18412\n",
       "0           13886\n",
       "$            6279\n",
       "$$$$         1423\n",
       "Name: Price Range, dtype: int64"
      ]
     },
     "execution_count": 4,
     "metadata": {},
     "output_type": "execute_result"
    }
   ],
   "source": [
    "df['Price Range'].value_counts()"
   ]
  },
  {
   "cell_type": "code",
   "execution_count": 5,
   "metadata": {},
   "outputs": [],
   "source": [
    "price_dict={0:0, '$':1, '$$ - $$$':2, '$$$$':3}"
   ]
  },
  {
   "cell_type": "code",
   "execution_count": 6,
   "metadata": {},
   "outputs": [
    {
     "data": {
      "text/plain": [
       "2    18412\n",
       "0    13886\n",
       "1     6279\n",
       "3     1423\n",
       "Name: Price Range, dtype: int64"
      ]
     },
     "execution_count": 6,
     "metadata": {},
     "output_type": "execute_result"
    }
   ],
   "source": [
    "df['Price Range'] = df['Price Range'].replace(to_replace=price_dict)\n",
    "df['Price Range'].value_counts()"
   ]
  },
  {
   "cell_type": "code",
   "execution_count": 7,
   "metadata": {},
   "outputs": [],
   "source": [
    "cities=df['City'].value_counts()"
   ]
  },
  {
   "cell_type": "code",
   "execution_count": 8,
   "metadata": {},
   "outputs": [],
   "source": [
    "cities_dummies=pd.get_dummies(df['City'], drop_first=True)"
   ]
  },
  {
   "cell_type": "code",
   "execution_count": 9,
   "metadata": {},
   "outputs": [],
   "source": [
    "df = pd.concat([pd.DataFrame(df), cities_dummies], axis=1)"
   ]
  },
  {
   "cell_type": "code",
   "execution_count": 10,
   "metadata": {},
   "outputs": [],
   "source": [
    "df.drop(columns='City', inplace=True)"
   ]
  },
  {
   "cell_type": "code",
   "execution_count": 11,
   "metadata": {},
   "outputs": [],
   "source": [
    "df['Cuisine Style'] = df.apply(lambda x: x['Cuisine Style'].replace('[', '').replace(']', '').replace(\n",
    "    \"'\", '').replace(' ', '') if type(x['Cuisine Style']) != float else x['Cuisine Style'], axis=1)"
   ]
  },
  {
   "cell_type": "code",
   "execution_count": 12,
   "metadata": {},
   "outputs": [],
   "source": [
    "df['Cuisine Style'] = df['Cuisine Style'].fillna('Other')"
   ]
  },
  {
   "cell_type": "code",
   "execution_count": 13,
   "metadata": {},
   "outputs": [
    {
     "data": {
      "text/plain": [
       "2.6224"
      ]
     },
     "execution_count": 13,
     "metadata": {},
     "output_type": "execute_result"
    }
   ],
   "source": [
    "df['cuisines_count'] = df['Cuisine Style'].str.split(',').str.len().fillna(1)\n",
    "df['cuisines_count'].mean()"
   ]
  },
  {
   "cell_type": "code",
   "execution_count": 14,
   "metadata": {},
   "outputs": [],
   "source": [
    "cuisines = df['Cuisine Style'].str.get_dummies(\n",
    "    ',').sum().sort_values(ascending=False)\n",
    "top_cuisines = [x for x in cuisines.index if cuisines[x] < 1000]"
   ]
  },
  {
   "cell_type": "code",
   "execution_count": 15,
   "metadata": {},
   "outputs": [],
   "source": [
    "df = df.join(df['Cuisine Style'].str.get_dummies(\n",
    "    ',').drop(top_cuisines, axis=1), how='left')"
   ]
  },
  {
   "cell_type": "code",
   "execution_count": 16,
   "metadata": {},
   "outputs": [],
   "source": [
    "df.drop(columns='Cuisine Style', inplace=True)"
   ]
  },
  {
   "cell_type": "code",
   "execution_count": 17,
   "metadata": {},
   "outputs": [],
   "source": [
    "df['Reviews'] = df.apply(lambda x: x['Reviews'].replace('[[], []]', 'No reviews'), axis=1)"
   ]
  },
  {
   "cell_type": "code",
   "execution_count": 18,
   "metadata": {},
   "outputs": [],
   "source": [
    "df['Reviews'] = df['Reviews'].apply(lambda x: x.replace(\n",
    "    '[[', ''))\n",
    "df['Reviews'] = df['Reviews'].apply(lambda x: x.replace(\n",
    "    ']]', ''))\n",
    "df['Reviews'] = df['Reviews'].apply(lambda x: x.replace(\n",
    "    '[', ''))\n",
    "df['Reviews'] = df['Reviews'].apply(lambda x: x.replace(\n",
    "    ']', ''))\n",
    "df['Reviews'] = df['Reviews'].apply(lambda x: str(x) if type(x) == list else x)\n",
    "time_reviews = []\n",
    "for item in df['Reviews']:\n",
    "    time_reviews.append(re.findall(r'(\\d\\d/\\d\\d/\\d\\d\\d\\d)', item))\n",
    "reviews = pd.DataFrame(time_reviews)\n",
    "df['first_date_reviews'] = pd.to_datetime(reviews[0])\n",
    "df['second_date_reviews']= pd.to_datetime(reviews[1])"
   ]
  },
  {
   "cell_type": "code",
   "execution_count": 19,
   "metadata": {},
   "outputs": [
    {
     "data": {
      "text/plain": [
       "Timestamp('2018-02-26 00:00:00')"
      ]
     },
     "execution_count": 19,
     "metadata": {},
     "output_type": "execute_result"
    }
   ],
   "source": [
    "df['first_date_reviews'].max()"
   ]
  },
  {
   "cell_type": "code",
   "execution_count": 20,
   "metadata": {},
   "outputs": [
    {
     "data": {
      "text/plain": [
       "Timestamp('2018-02-26 00:00:00')"
      ]
     },
     "execution_count": 20,
     "metadata": {},
     "output_type": "execute_result"
    }
   ],
   "source": [
    "df['second_date_reviews'].max()"
   ]
  },
  {
   "cell_type": "code",
   "execution_count": 21,
   "metadata": {},
   "outputs": [
    {
     "data": {
      "text/plain": [
       "Timedelta('3207 days 00:00:00')"
      ]
     },
     "execution_count": 21,
     "metadata": {},
     "output_type": "execute_result"
    }
   ],
   "source": [
    "df['difference_between_reviews_date'] = df['first_date_reviews']-df['second_date_reviews']\n",
    "df['difference_between_reviews_date'].max()"
   ]
  },
  {
   "cell_type": "code",
   "execution_count": 22,
   "metadata": {},
   "outputs": [],
   "source": [
    "df.drop(columns=['Reviews'], axis=1, inplace=True)"
   ]
  },
  {
   "cell_type": "code",
   "execution_count": 23,
   "metadata": {},
   "outputs": [],
   "source": [
    "df['first_date_reviews'].fillna(value=0, inplace=True)\n",
    "df['second_date_reviews'].fillna(value=0, inplace=True)\n",
    "df['difference_between_reviews_date'].fillna(value=pd.Timedelta(seconds=0), inplace=True)"
   ]
  },
  {
   "cell_type": "code",
   "execution_count": 24,
   "metadata": {},
   "outputs": [],
   "source": [
    "import numpy as np \n",
    "df['difference_between_reviews_date']=(df['difference_between_reviews_date'] / np.timedelta64(1, 'D')).astype(int) "
   ]
  },
  {
   "cell_type": "code",
   "execution_count": 25,
   "metadata": {},
   "outputs": [],
   "source": [
    "df.drop(columns=['first_date_reviews', 'second_date_reviews'], axis=1, inplace=True)"
   ]
  },
  {
   "cell_type": "code",
   "execution_count": 26,
   "metadata": {},
   "outputs": [],
   "source": [
    "df['ID_TA']=df['ID_TA'].apply(lambda x: x.replace('d', ''))\n",
    "df['ID_TA']=df['ID_TA'].astype(int)"
   ]
  },
  {
   "cell_type": "code",
   "execution_count": 27,
   "metadata": {},
   "outputs": [],
   "source": [
    "import seaborn as sns"
   ]
  },
  {
   "cell_type": "code",
   "execution_count": 28,
   "metadata": {},
   "outputs": [
    {
     "data": {
      "image/png": "[encoded data removed]",
      "text/plain": [
       "<Figure size 432x288 with 1 Axes>"
      ]
     },
     "metadata": {
      "needs_background": "light"
     },
     "output_type": "display_data"
    }
   ],
   "source": [
    "sns.boxplot(df['Number of Reviews'] , color='yellow');"
   ]
  },
  {
   "cell_type": "code",
   "execution_count": 29,
   "metadata": {},
   "outputs": [],
   "source": [
    "def outliers_iqr(ys):\n",
    "    quartile_1, quartile_3 = np.percentile(ys, [25, 75])\n",
    "    iqr = quartile_3 - quartile_1\n",
    "    lower_bound = quartile_1 - (iqr * 1.5)\n",
    "    upper_bound = quartile_3 + (iqr * 1.5)\n",
    "    return np.where((ys > upper_bound) | (ys < lower_bound))[0]"
   ]
  },
  {
   "cell_type": "code",
   "execution_count": 30,
   "metadata": {},
   "outputs": [],
   "source": [
    "o = outliers_iqr(df['Number of Reviews'].dropna())\n",
    "df_selected = df[['Restaurant_id', 'Ranking', 'Rating', 'Price Range',\n",
    "                 'Number of Reviews', 'ID_TA', 'difference_between_reviews_date']]"
   ]
  },
  {
   "cell_type": "markdown",
   "metadata": {},
   "source": [
    "Мы видим, что в столбце['Number of Reviews'] довольно много выбросовб посмотрим еще более внимательно на этот столбец при построении матрицы корреляций."
   ]
  },
  {
   "cell_type": "code",
   "execution_count": 31,
   "metadata": {},
   "outputs": [
    {
     "data": {
      "text/plain": [
       "<matplotlib.axes._subplots.AxesSubplot at 0x25614a2ecc8>"
      ]
     },
     "execution_count": 31,
     "metadata": {},
     "output_type": "execute_result"
    },
    {
     "data": {
      "image/png": "[encoded data removed]",
      "text/plain": [
       "<Figure size 432x288 with 2 Axes>"
      ]
     },
     "metadata": {
      "needs_background": "light"
     },
     "output_type": "display_data"
    }
   ],
   "source": [
    "import seaborn as sns\n",
    "corr = df_selected.corr()\n",
    "sns.heatmap(corr, \n",
    "            xticklabels=corr.columns.values,\n",
    "            yticklabels=corr.columns.values)"
   ]
  },
  {
   "cell_type": "code",
   "execution_count": 32,
   "metadata": {},
   "outputs": [
    {
     "data": {
      "text/html": [
       "<style  type=\"text/css\" >\n",
       "    #T_7c54930c_fb59_11ea_8756_7085c2ad5c8crow0_col0 {\n",
       "            background-color:  #b40426;\n",
       "            color:  #f1f1f1;\n",
       "        }    #T_7c54930c_fb59_11ea_8756_7085c2ad5c8crow0_col1 {\n",
       "            background-color:  #b40426;\n",
       "            color:  #f1f1f1;\n",
       "        }    #T_7c54930c_fb59_11ea_8756_7085c2ad5c8crow0_col2 {\n",
       "            background-color:  #3b4cc0;\n",
       "            color:  #f1f1f1;\n",
       "        }    #T_7c54930c_fb59_11ea_8756_7085c2ad5c8crow0_col3 {\n",
       "            background-color:  #455cce;\n",
       "            color:  #f1f1f1;\n",
       "        }    #T_7c54930c_fb59_11ea_8756_7085c2ad5c8crow0_col4 {\n",
       "            background-color:  #4a63d3;\n",
       "            color:  #f1f1f1;\n",
       "        }    #T_7c54930c_fb59_11ea_8756_7085c2ad5c8crow0_col5 {\n",
       "            background-color:  #92b4fe;\n",
       "            color:  #000000;\n",
       "        }    #T_7c54930c_fb59_11ea_8756_7085c2ad5c8crow0_col6 {\n",
       "            background-color:  #7a9df8;\n",
       "            color:  #000000;\n",
       "        }    #T_7c54930c_fb59_11ea_8756_7085c2ad5c8crow1_col0 {\n",
       "            background-color:  #b40426;\n",
       "            color:  #f1f1f1;\n",
       "        }    #T_7c54930c_fb59_11ea_8756_7085c2ad5c8crow1_col1 {\n",
       "            background-color:  #b40426;\n",
       "            color:  #f1f1f1;\n",
       "        }    #T_7c54930c_fb59_11ea_8756_7085c2ad5c8crow1_col2 {\n",
       "            background-color:  #3b4cc0;\n",
       "            color:  #f1f1f1;\n",
       "        }    #T_7c54930c_fb59_11ea_8756_7085c2ad5c8crow1_col3 {\n",
       "            background-color:  #455cce;\n",
       "            color:  #f1f1f1;\n",
       "        }    #T_7c54930c_fb59_11ea_8756_7085c2ad5c8crow1_col4 {\n",
       "            background-color:  #4a63d3;\n",
       "            color:  #f1f1f1;\n",
       "        }    #T_7c54930c_fb59_11ea_8756_7085c2ad5c8crow1_col5 {\n",
       "            background-color:  #92b4fe;\n",
       "            color:  #000000;\n",
       "        }    #T_7c54930c_fb59_11ea_8756_7085c2ad5c8crow1_col6 {\n",
       "            background-color:  #7a9df8;\n",
       "            color:  #000000;\n",
       "        }    #T_7c54930c_fb59_11ea_8756_7085c2ad5c8crow2_col0 {\n",
       "            background-color:  #3b4cc0;\n",
       "            color:  #f1f1f1;\n",
       "        }    #T_7c54930c_fb59_11ea_8756_7085c2ad5c8crow2_col1 {\n",
       "            background-color:  #3b4cc0;\n",
       "            color:  #f1f1f1;\n",
       "        }    #T_7c54930c_fb59_11ea_8756_7085c2ad5c8crow2_col2 {\n",
       "            background-color:  #b40426;\n",
       "            color:  #f1f1f1;\n",
       "        }    #T_7c54930c_fb59_11ea_8756_7085c2ad5c8crow2_col3 {\n",
       "            background-color:  #92b4fe;\n",
       "            color:  #000000;\n",
       "        }    #T_7c54930c_fb59_11ea_8756_7085c2ad5c8crow2_col4 {\n",
       "            background-color:  #8badfd;\n",
       "            color:  #000000;\n",
       "        }    #T_7c54930c_fb59_11ea_8756_7085c2ad5c8crow2_col5 {\n",
       "            background-color:  #afcafc;\n",
       "            color:  #000000;\n",
       "        }    #T_7c54930c_fb59_11ea_8756_7085c2ad5c8crow2_col6 {\n",
       "            background-color:  #5e7de7;\n",
       "            color:  #000000;\n",
       "        }    #T_7c54930c_fb59_11ea_8756_7085c2ad5c8crow3_col0 {\n",
       "            background-color:  #5673e0;\n",
       "            color:  #000000;\n",
       "        }    #T_7c54930c_fb59_11ea_8756_7085c2ad5c8crow3_col1 {\n",
       "            background-color:  #5673e0;\n",
       "            color:  #000000;\n",
       "        }    #T_7c54930c_fb59_11ea_8756_7085c2ad5c8crow3_col2 {\n",
       "            background-color:  #a1c0ff;\n",
       "            color:  #000000;\n",
       "        }    #T_7c54930c_fb59_11ea_8756_7085c2ad5c8crow3_col3 {\n",
       "            background-color:  #b40426;\n",
       "            color:  #f1f1f1;\n",
       "        }    #T_7c54930c_fb59_11ea_8756_7085c2ad5c8crow3_col4 {\n",
       "            background-color:  #d4dbe6;\n",
       "            color:  #000000;\n",
       "        }    #T_7c54930c_fb59_11ea_8756_7085c2ad5c8crow3_col5 {\n",
       "            background-color:  #3b4cc0;\n",
       "            color:  #f1f1f1;\n",
       "        }    #T_7c54930c_fb59_11ea_8756_7085c2ad5c8crow3_col6 {\n",
       "            background-color:  #6180e9;\n",
       "            color:  #000000;\n",
       "        }    #T_7c54930c_fb59_11ea_8756_7085c2ad5c8crow4_col0 {\n",
       "            background-color:  #5b7ae5;\n",
       "            color:  #000000;\n",
       "        }    #T_7c54930c_fb59_11ea_8756_7085c2ad5c8crow4_col1 {\n",
       "            background-color:  #5b7ae5;\n",
       "            color:  #000000;\n",
       "        }    #T_7c54930c_fb59_11ea_8756_7085c2ad5c8crow4_col2 {\n",
       "            background-color:  #9abbff;\n",
       "            color:  #000000;\n",
       "        }    #T_7c54930c_fb59_11ea_8756_7085c2ad5c8crow4_col3 {\n",
       "            background-color:  #d4dbe6;\n",
       "            color:  #000000;\n",
       "        }    #T_7c54930c_fb59_11ea_8756_7085c2ad5c8crow4_col4 {\n",
       "            background-color:  #b40426;\n",
       "            color:  #f1f1f1;\n",
       "        }    #T_7c54930c_fb59_11ea_8756_7085c2ad5c8crow4_col5 {\n",
       "            background-color:  #3b4cc0;\n",
       "            color:  #f1f1f1;\n",
       "        }    #T_7c54930c_fb59_11ea_8756_7085c2ad5c8crow4_col6 {\n",
       "            background-color:  #5470de;\n",
       "            color:  #000000;\n",
       "        }    #T_7c54930c_fb59_11ea_8756_7085c2ad5c8crow5_col0 {\n",
       "            background-color:  #a1c0ff;\n",
       "            color:  #000000;\n",
       "        }    #T_7c54930c_fb59_11ea_8756_7085c2ad5c8crow5_col1 {\n",
       "            background-color:  #a1c0ff;\n",
       "            color:  #000000;\n",
       "        }    #T_7c54930c_fb59_11ea_8756_7085c2ad5c8crow5_col2 {\n",
       "            background-color:  #bbd1f8;\n",
       "            color:  #000000;\n",
       "        }    #T_7c54930c_fb59_11ea_8756_7085c2ad5c8crow5_col3 {\n",
       "            background-color:  #3b4cc0;\n",
       "            color:  #f1f1f1;\n",
       "        }    #T_7c54930c_fb59_11ea_8756_7085c2ad5c8crow5_col4 {\n",
       "            background-color:  #3b4cc0;\n",
       "            color:  #f1f1f1;\n",
       "        }    #T_7c54930c_fb59_11ea_8756_7085c2ad5c8crow5_col5 {\n",
       "            background-color:  #b40426;\n",
       "            color:  #f1f1f1;\n",
       "        }    #T_7c54930c_fb59_11ea_8756_7085c2ad5c8crow5_col6 {\n",
       "            background-color:  #3b4cc0;\n",
       "            color:  #f1f1f1;\n",
       "        }    #T_7c54930c_fb59_11ea_8756_7085c2ad5c8crow6_col0 {\n",
       "            background-color:  #a2c1ff;\n",
       "            color:  #000000;\n",
       "        }    #T_7c54930c_fb59_11ea_8756_7085c2ad5c8crow6_col1 {\n",
       "            background-color:  #a2c1ff;\n",
       "            color:  #000000;\n",
       "        }    #T_7c54930c_fb59_11ea_8756_7085c2ad5c8crow6_col2 {\n",
       "            background-color:  #89acfd;\n",
       "            color:  #000000;\n",
       "        }    #T_7c54930c_fb59_11ea_8756_7085c2ad5c8crow6_col3 {\n",
       "            background-color:  #7b9ff9;\n",
       "            color:  #000000;\n",
       "        }    #T_7c54930c_fb59_11ea_8756_7085c2ad5c8crow6_col4 {\n",
       "            background-color:  #6e90f2;\n",
       "            color:  #000000;\n",
       "        }    #T_7c54930c_fb59_11ea_8756_7085c2ad5c8crow6_col5 {\n",
       "            background-color:  #5572df;\n",
       "            color:  #000000;\n",
       "        }    #T_7c54930c_fb59_11ea_8756_7085c2ad5c8crow6_col6 {\n",
       "            background-color:  #b40426;\n",
       "            color:  #f1f1f1;\n",
       "        }</style><table id=\"T_7c54930c_fb59_11ea_8756_7085c2ad5c8c\" ><thead>    <tr>        <th class=\"blank level0\" ></th>        <th class=\"col_heading level0 col0\" >Restaurant_id</th>        <th class=\"col_heading level0 col1\" >Ranking</th>        <th class=\"col_heading level0 col2\" >Rating</th>        <th class=\"col_heading level0 col3\" >Price Range</th>        <th class=\"col_heading level0 col4\" >Number of Reviews</th>        <th class=\"col_heading level0 col5\" >ID_TA</th>        <th class=\"col_heading level0 col6\" >difference_between_reviews_date</th>    </tr></thead><tbody>\n",
       "                <tr>\n",
       "                        <th id=\"T_7c54930c_fb59_11ea_8756_7085c2ad5c8clevel0_row0\" class=\"row_heading level0 row0\" >Restaurant_id</th>\n",
       "                        <td id=\"T_7c54930c_fb59_11ea_8756_7085c2ad5c8crow0_col0\" class=\"data row0 col0\" >1.000000</td>\n",
       "                        <td id=\"T_7c54930c_fb59_11ea_8756_7085c2ad5c8crow0_col1\" class=\"data row0 col1\" >1.000000</td>\n",
       "                        <td id=\"T_7c54930c_fb59_11ea_8756_7085c2ad5c8crow0_col2\" class=\"data row0 col2\" >-0.368308</td>\n",
       "                        <td id=\"T_7c54930c_fb59_11ea_8756_7085c2ad5c8crow0_col3\" class=\"data row0 col3\" >-0.243545</td>\n",
       "                        <td id=\"T_7c54930c_fb59_11ea_8756_7085c2ad5c8crow0_col4\" class=\"data row0 col4\" >-0.222036</td>\n",
       "                        <td id=\"T_7c54930c_fb59_11ea_8756_7085c2ad5c8crow0_col5\" class=\"data row0 col5\" >0.048820</td>\n",
       "                        <td id=\"T_7c54930c_fb59_11ea_8756_7085c2ad5c8crow0_col6\" class=\"data row0 col6\" >0.056054</td>\n",
       "            </tr>\n",
       "            <tr>\n",
       "                        <th id=\"T_7c54930c_fb59_11ea_8756_7085c2ad5c8clevel0_row1\" class=\"row_heading level0 row1\" >Ranking</th>\n",
       "                        <td id=\"T_7c54930c_fb59_11ea_8756_7085c2ad5c8crow1_col0\" class=\"data row1 col0\" >1.000000</td>\n",
       "                        <td id=\"T_7c54930c_fb59_11ea_8756_7085c2ad5c8crow1_col1\" class=\"data row1 col1\" >1.000000</td>\n",
       "                        <td id=\"T_7c54930c_fb59_11ea_8756_7085c2ad5c8crow1_col2\" class=\"data row1 col2\" >-0.368371</td>\n",
       "                        <td id=\"T_7c54930c_fb59_11ea_8756_7085c2ad5c8crow1_col3\" class=\"data row1 col3\" >-0.243553</td>\n",
       "                        <td id=\"T_7c54930c_fb59_11ea_8756_7085c2ad5c8crow1_col4\" class=\"data row1 col4\" >-0.222072</td>\n",
       "                        <td id=\"T_7c54930c_fb59_11ea_8756_7085c2ad5c8crow1_col5\" class=\"data row1 col5\" >0.048826</td>\n",
       "                        <td id=\"T_7c54930c_fb59_11ea_8756_7085c2ad5c8crow1_col6\" class=\"data row1 col6\" >0.056043</td>\n",
       "            </tr>\n",
       "            <tr>\n",
       "                        <th id=\"T_7c54930c_fb59_11ea_8756_7085c2ad5c8clevel0_row2\" class=\"row_heading level0 row2\" >Rating</th>\n",
       "                        <td id=\"T_7c54930c_fb59_11ea_8756_7085c2ad5c8crow2_col0\" class=\"data row2 col0\" >-0.368308</td>\n",
       "                        <td id=\"T_7c54930c_fb59_11ea_8756_7085c2ad5c8crow2_col1\" class=\"data row2 col1\" >-0.368371</td>\n",
       "                        <td id=\"T_7c54930c_fb59_11ea_8756_7085c2ad5c8crow2_col2\" class=\"data row2 col2\" >1.000000</td>\n",
       "                        <td id=\"T_7c54930c_fb59_11ea_8756_7085c2ad5c8crow2_col3\" class=\"data row2 col3\" >0.051643</td>\n",
       "                        <td id=\"T_7c54930c_fb59_11ea_8756_7085c2ad5c8crow2_col4\" class=\"data row2 col4\" >0.026924</td>\n",
       "                        <td id=\"T_7c54930c_fb59_11ea_8756_7085c2ad5c8crow2_col5\" class=\"data row2 col5\" >0.159111</td>\n",
       "                        <td id=\"T_7c54930c_fb59_11ea_8756_7085c2ad5c8crow2_col6\" class=\"data row2 col6\" >-0.039930</td>\n",
       "            </tr>\n",
       "            <tr>\n",
       "                        <th id=\"T_7c54930c_fb59_11ea_8756_7085c2ad5c8clevel0_row3\" class=\"row_heading level0 row3\" >Price Range</th>\n",
       "                        <td id=\"T_7c54930c_fb59_11ea_8756_7085c2ad5c8crow3_col0\" class=\"data row3 col0\" >-0.243545</td>\n",
       "                        <td id=\"T_7c54930c_fb59_11ea_8756_7085c2ad5c8crow3_col1\" class=\"data row3 col1\" >-0.243553</td>\n",
       "                        <td id=\"T_7c54930c_fb59_11ea_8756_7085c2ad5c8crow3_col2\" class=\"data row3 col2\" >0.051643</td>\n",
       "                        <td id=\"T_7c54930c_fb59_11ea_8756_7085c2ad5c8crow3_col3\" class=\"data row3 col3\" >1.000000</td>\n",
       "                        <td id=\"T_7c54930c_fb59_11ea_8756_7085c2ad5c8crow3_col4\" class=\"data row3 col4\" >0.312668</td>\n",
       "                        <td id=\"T_7c54930c_fb59_11ea_8756_7085c2ad5c8crow3_col5\" class=\"data row3 col5\" >-0.291264</td>\n",
       "                        <td id=\"T_7c54930c_fb59_11ea_8756_7085c2ad5c8crow3_col6\" class=\"data row3 col6\" >-0.033257</td>\n",
       "            </tr>\n",
       "            <tr>\n",
       "                        <th id=\"T_7c54930c_fb59_11ea_8756_7085c2ad5c8clevel0_row4\" class=\"row_heading level0 row4\" >Number of Reviews</th>\n",
       "                        <td id=\"T_7c54930c_fb59_11ea_8756_7085c2ad5c8crow4_col0\" class=\"data row4 col0\" >-0.222036</td>\n",
       "                        <td id=\"T_7c54930c_fb59_11ea_8756_7085c2ad5c8crow4_col1\" class=\"data row4 col1\" >-0.222072</td>\n",
       "                        <td id=\"T_7c54930c_fb59_11ea_8756_7085c2ad5c8crow4_col2\" class=\"data row4 col2\" >0.026924</td>\n",
       "                        <td id=\"T_7c54930c_fb59_11ea_8756_7085c2ad5c8crow4_col3\" class=\"data row4 col3\" >0.312668</td>\n",
       "                        <td id=\"T_7c54930c_fb59_11ea_8756_7085c2ad5c8crow4_col4\" class=\"data row4 col4\" >1.000000</td>\n",
       "                        <td id=\"T_7c54930c_fb59_11ea_8756_7085c2ad5c8crow4_col5\" class=\"data row4 col5\" >-0.289781</td>\n",
       "                        <td id=\"T_7c54930c_fb59_11ea_8756_7085c2ad5c8crow4_col6\" class=\"data row4 col6\" >-0.079650</td>\n",
       "            </tr>\n",
       "            <tr>\n",
       "                        <th id=\"T_7c54930c_fb59_11ea_8756_7085c2ad5c8clevel0_row5\" class=\"row_heading level0 row5\" >ID_TA</th>\n",
       "                        <td id=\"T_7c54930c_fb59_11ea_8756_7085c2ad5c8crow5_col0\" class=\"data row5 col0\" >0.048820</td>\n",
       "                        <td id=\"T_7c54930c_fb59_11ea_8756_7085c2ad5c8crow5_col1\" class=\"data row5 col1\" >0.048826</td>\n",
       "                        <td id=\"T_7c54930c_fb59_11ea_8756_7085c2ad5c8crow5_col2\" class=\"data row5 col2\" >0.159111</td>\n",
       "                        <td id=\"T_7c54930c_fb59_11ea_8756_7085c2ad5c8crow5_col3\" class=\"data row5 col3\" >-0.291264</td>\n",
       "                        <td id=\"T_7c54930c_fb59_11ea_8756_7085c2ad5c8crow5_col4\" class=\"data row5 col4\" >-0.289781</td>\n",
       "                        <td id=\"T_7c54930c_fb59_11ea_8756_7085c2ad5c8crow5_col5\" class=\"data row5 col5\" >1.000000</td>\n",
       "                        <td id=\"T_7c54930c_fb59_11ea_8756_7085c2ad5c8crow5_col6\" class=\"data row5 col6\" >-0.176519</td>\n",
       "            </tr>\n",
       "            <tr>\n",
       "                        <th id=\"T_7c54930c_fb59_11ea_8756_7085c2ad5c8clevel0_row6\" class=\"row_heading level0 row6\" >difference_between_reviews_date</th>\n",
       "                        <td id=\"T_7c54930c_fb59_11ea_8756_7085c2ad5c8crow6_col0\" class=\"data row6 col0\" >0.056054</td>\n",
       "                        <td id=\"T_7c54930c_fb59_11ea_8756_7085c2ad5c8crow6_col1\" class=\"data row6 col1\" >0.056043</td>\n",
       "                        <td id=\"T_7c54930c_fb59_11ea_8756_7085c2ad5c8crow6_col2\" class=\"data row6 col2\" >-0.039930</td>\n",
       "                        <td id=\"T_7c54930c_fb59_11ea_8756_7085c2ad5c8crow6_col3\" class=\"data row6 col3\" >-0.033257</td>\n",
       "                        <td id=\"T_7c54930c_fb59_11ea_8756_7085c2ad5c8crow6_col4\" class=\"data row6 col4\" >-0.079650</td>\n",
       "                        <td id=\"T_7c54930c_fb59_11ea_8756_7085c2ad5c8crow6_col5\" class=\"data row6 col5\" >-0.176519</td>\n",
       "                        <td id=\"T_7c54930c_fb59_11ea_8756_7085c2ad5c8crow6_col6\" class=\"data row6 col6\" >1.000000</td>\n",
       "            </tr>\n",
       "    </tbody></table>"
      ],
      "text/plain": [
       "<pandas.io.formats.style.Styler at 0x25614a25c88>"
      ]
     },
     "execution_count": 32,
     "metadata": {},
     "output_type": "execute_result"
    }
   ],
   "source": [
    "import pandas as pd\n",
    "import numpy as np\n",
    "corr = df_selected.corr()\n",
    "corr.style.background_gradient(cmap='coolwarm')\n"
   ]
  },
  {
   "cell_type": "code",
   "execution_count": 33,
   "metadata": {},
   "outputs": [
    {
     "data": {
      "text/plain": [
       "array([[0.33911826, 0.33868515, 0.625     , ..., 0.        , 0.        ,\n",
       "        0.11291678],\n",
       "       [0.09347217, 0.09341361, 0.75      , ..., 0.        , 0.        ,\n",
       "        0.20846175],\n",
       "       [0.02143466, 0.02140729, 0.875     , ..., 1.        , 1.        ,\n",
       "        0.10198935],\n",
       "       ...,\n",
       "       [0.10041408, 0.10040747, 0.875     , ..., 0.        , 0.        ,\n",
       "        0.97758476],\n",
       "       [0.03897211, 0.03892234, 0.75      , ..., 0.        , 1.        ,\n",
       "        0.10787335],\n",
       "       [0.29375228, 0.29349875, 0.5       , ..., 0.        , 0.        ,\n",
       "        0.4673578 ]])"
      ]
     },
     "execution_count": 33,
     "metadata": {},
     "output_type": "execute_result"
    }
   ],
   "source": [
    "from sklearn.preprocessing import MinMaxScaler\n",
    "scaler = MinMaxScaler()\n",
    "scaler.fit_transform(df)"
   ]
  },
  {
   "cell_type": "markdown",
   "metadata": {},
   "source": [
    "# Разбиваем датафрейм на части, необходимые для обучения и тестирования модели"
   ]
  },
  {
   "cell_type": "code",
   "execution_count": 34,
   "metadata": {},
   "outputs": [],
   "source": [
    "# Х - данные с информацией о ресторанах, у - целевая переменная (рейтинги ресторанов)\n",
    "X = df.drop(['Restaurant_id', 'Rating'], axis = 1)\n",
    "y = df['Rating']"
   ]
  },
  {
   "cell_type": "code",
   "execution_count": 35,
   "metadata": {},
   "outputs": [],
   "source": [
    "# Загружаем специальный инструмент для разбивки:\n",
    "from sklearn.model_selection import train_test_split"
   ]
  },
  {
   "cell_type": "code",
   "execution_count": 36,
   "metadata": {},
   "outputs": [],
   "source": [
    "# Наборы данных с меткой \"train\" будут использоваться для обучения модели, \"test\" - для тестирования.\n",
    "# Для тестирования мы будем использовать 25% от исходного датасета.\n",
    "X_train, X_test, y_train, y_test = train_test_split(X, y, test_size=0.25)"
   ]
  },
  {
   "cell_type": "markdown",
   "metadata": {},
   "source": [
    "# Создаём, обучаем и тестируем модель"
   ]
  },
  {
   "cell_type": "code",
   "execution_count": 37,
   "metadata": {},
   "outputs": [],
   "source": [
    "# Импортируем необходимые библиотеки:\n",
    "from sklearn.ensemble import RandomForestRegressor # инструмент для создания и обучения модели\n",
    "from sklearn import metrics # инструменты для оценки точности модели"
   ]
  },
  {
   "cell_type": "code",
   "execution_count": 38,
   "metadata": {},
   "outputs": [],
   "source": [
    "# Создаём модель\n",
    "regr = RandomForestRegressor(n_estimators=100)\n",
    "\n",
    "# Обучаем модель на тестовом наборе данных\n",
    "regr.fit(X_train, y_train)\n",
    "\n",
    "# Используем обученную модель для предсказания рейтинга ресторанов в тестовой выборке.\n",
    "# Предсказанные значения записываем в переменную y_pred\n",
    "y_pred = regr.predict(X_test)"
   ]
  },
  {
   "cell_type": "code",
   "execution_count": 39,
   "metadata": {},
   "outputs": [
    {
     "name": "stdout",
     "output_type": "stream",
     "text": [
      "MAE: 0.2214375\n"
     ]
    }
   ],
   "source": [
    "# Сравниваем предсказанные значения (y_pred) с реальными (y_test), и смотрим насколько они в среднем отличаются\n",
    "# Метрика называется Mean Absolute Error (MAE) и показывает среднее отклонение предсказанных значений от фактических.\n",
    "print('MAE:', metrics.mean_absolute_error(y_test, y_pred))\n",
    "#0.26930400000000004\n",
    "#0.265753\n",
    "#0.22159299999999998\n",
    "#0.2214375"
   ]
  }
 ],
 "metadata": {
  "kernelspec": {
   "display_name": "Python 3",
   "language": "python",
   "name": "python3"
  },
  "language_info": {
   "codemirror_mode": {
    "name": "ipython",
    "version": 3
   },
   "file_extension": ".py",
   "mimetype": "text/x-python",
   "name": "python",
   "nbconvert_exporter": "python",
   "pygments_lexer": "ipython3",
   "version": "3.7.6"
  }
 },
 "nbformat": 4,
 "nbformat_minor": 2
}
